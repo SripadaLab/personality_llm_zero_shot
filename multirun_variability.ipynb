{
 "cells": [
  {
   "cell_type": "code",
   "execution_count": 1,
   "id": "218cf5b3",
   "metadata": {
    "ExecuteTime": {
     "end_time": "2025-09-26T15:10:12.354773Z",
     "start_time": "2025-09-26T15:10:10.606691Z"
    }
   },
   "outputs": [],
   "source": [
    "import pandas as pd\n",
    "import numpy as np\n",
    "import pingouin as pg"
   ]
  },
  {
   "cell_type": "code",
   "execution_count": 2,
   "id": "63ffc788",
   "metadata": {
    "ExecuteTime": {
     "end_time": "2025-09-26T15:10:12.362253Z",
     "start_time": "2025-09-26T15:10:12.356697Z"
    }
   },
   "outputs": [],
   "source": [
    "DATA_ROOT = './supplementary_data/seed_runs'\n",
    "\n",
    "#base_df = pd.read_csv(f'{DATA_ROOT}/sst_gpt_41_mini_text_per_question_scores.csv')\n",
    "#sub_order = base_df.subject.values.flatten()\n",
    "\n",
    "base_df = pd.read_csv(f'{DATA_ROOT}/aapecs_gpt_41_mini_text_per_question_scores.csv')\n",
    "sub_order = base_df.participantID.values.flatten()"
   ]
  },
  {
   "cell_type": "code",
   "execution_count": 3,
   "id": "21b22af3",
   "metadata": {
    "ExecuteTime": {
     "end_time": "2025-09-26T15:10:13.249389Z",
     "start_time": "2025-09-26T15:10:12.363487Z"
    }
   },
   "outputs": [
    {
     "name": "stdout",
     "output_type": "stream",
     "text": [
      "| Trait                |   ICC(3,1) |   p-value | 95% CI       |\n",
      "|:---------------------|-----------:|----------:|:-------------|\n",
      "| Neoneuroticism       |      0.992 | 0         | [0.99, 0.99] |\n",
      "| Neoextraversion      |      0.987 | 0         | [0.98, 0.99] |\n",
      "| Neoopenness          |      0.966 | 5.51e-280 | [0.96, 0.97] |\n",
      "| Neoagreeableness     |      0.963 | 1.01e-271 | [0.95, 0.97] |\n",
      "| Neoconscientiousness |      0.974 | 8.71e-306 | [0.97, 0.98] |\n"
     ]
    }
   ],
   "source": [
    "#cols_of_interest = ['neuroticism', 'extraversion', 'openness', 'agreeableness', 'conscientiousness']\n",
    "cols_of_interest = ['neoNeuroticism', 'neoExtraversion', 'neoOpenness', 'neoAgreeableness', 'neoConscientiousness']\n",
    "#index_col = 'subject'\n",
    "index_col = 'participantID'\n",
    "#dataset = 'sst'\n",
    "dataset = 'aapecs'\n",
    "\n",
    "results = []\n",
    "\n",
    "for col in cols_of_interest:\n",
    "    ratings = []\n",
    "    for counter in range(1, 6):\n",
    "        seed = 0\n",
    "        df = pd.read_csv(f'{DATA_ROOT}/seed_runs/{dataset}_gpt_41_mini_text_per_question_scores_seed{seed}_{counter}.csv')\n",
    "        df = df[[index_col] + cols_of_interest]\n",
    "        df = df.set_index(index_col).reindex(sub_order)\n",
    "        ratings.append(df[[col]].values.flatten())\n",
    "        \n",
    "    rows = []\n",
    "    for rater_idx, scores in enumerate(ratings, start=1):\n",
    "        for subj, score in zip(sub_order, scores):\n",
    "            rows.append({\"subject\": subj, \"rater\": rater_idx, \"score\": score})\n",
    "\n",
    "    data = pd.DataFrame(rows)\n",
    "\n",
    "    icc = pg.intraclass_corr(data=data, targets='subject', raters='rater', ratings='score')\n",
    "    icc21 = icc.loc[(icc['Type']=='ICC3') & (icc['CI95%'].notna()), :]\n",
    "    icc, pval, ci = icc21[\"ICC\"].values.flatten()[0], icc21[\"pval\"].values.flatten()[0], icc21[\"CI95%\"].values.flatten()[0]\n",
    "    \n",
    "    results.append((col, icc, pval, ci))\n",
    "    \n",
    "    \n",
    "df = pd.DataFrame(results, columns=[\"Trait\", \"ICC(3,1)\", \"p-value\", \"95% CI\"])\n",
    "\n",
    "df[\"Trait\"] = df[\"Trait\"].map(lambda x: str(x).capitalize())\n",
    "df[\"ICC(3,1)\"] = df[\"ICC(3,1)\"].map(\"{:.3f}\".format)\n",
    "df[\"p-value\"] = df[\"p-value\"].map(\"{:.2e}\".format)\n",
    "df[\"95% CI\"] = df[\"95% CI\"].apply(lambda x: f\"[{x[0]:.2f}, {x[1]:.2f}]\")\n",
    "\n",
    "print(df.to_markdown(index=False))"
   ]
  },
  {
   "cell_type": "code",
   "execution_count": 4,
   "id": "342890a9",
   "metadata": {
    "ExecuteTime": {
     "end_time": "2025-09-26T15:10:14.055288Z",
     "start_time": "2025-09-26T15:10:13.251065Z"
    }
   },
   "outputs": [
    {
     "name": "stdout",
     "output_type": "stream",
     "text": [
      "| Trait                |   ICC(3,1) |   p-value | 95% CI       |\n",
      "|:---------------------|-----------:|----------:|:-------------|\n",
      "| Neoneuroticism       |      0.992 | 0         | [0.99, 0.99] |\n",
      "| Neoextraversion      |      0.986 | 0         | [0.98, 0.99] |\n",
      "| Neoopenness          |      0.967 | 4.24e-283 | [0.96, 0.98] |\n",
      "| Neoagreeableness     |      0.959 | 1.09e-263 | [0.95, 0.97] |\n",
      "| Neoconscientiousness |      0.969 | 1.25e-289 | [0.96, 0.98] |\n"
     ]
    }
   ],
   "source": [
    "#cols_of_interest = ['neuroticism', 'extraversion', 'openness', 'agreeableness', 'conscientiousness']\n",
    "cols_of_interest = ['neoNeuroticism', 'neoExtraversion', 'neoOpenness', 'neoAgreeableness', 'neoConscientiousness']\n",
    "#index_col = 'subject'\n",
    "index_col = 'participantID'\n",
    "#dataset = 'sst'\n",
    "dataset = 'aapecs'\n",
    "\n",
    "results = []\n",
    "np.random.seed(0)\n",
    "seeds = [np.random.randint(0, 1000) for _ in range(5)]\n",
    "\n",
    "for col in cols_of_interest:\n",
    "    ratings = []\n",
    "    for counter in range(1, 6):\n",
    "        seed = seeds[counter-1]\n",
    "        df = pd.read_csv(f'{DATA_ROOT}/seed_runs/{dataset}_gpt_41_mini_text_per_question_scores_seed{seed}_999.csv')\n",
    "        df = df[[index_col] + cols_of_interest]\n",
    "        df = df.set_index(index_col).reindex(sub_order)\n",
    "        ratings.append(df[[col]].values.flatten())\n",
    "        \n",
    "    rows = []\n",
    "    for rater_idx, scores in enumerate(ratings, start=1):\n",
    "        for subj, score in zip(sub_order, scores):\n",
    "            rows.append({\"subject\": subj, \"rater\": rater_idx, \"score\": score})\n",
    "\n",
    "    data = pd.DataFrame(rows)\n",
    "\n",
    "    icc = pg.intraclass_corr(data=data, targets='subject', raters='rater', ratings='score')\n",
    "    icc21 = icc.loc[(icc['Type']=='ICC3') & (icc['CI95%'].notna()), :]\n",
    "    icc, pval, ci = icc21[\"ICC\"].values.flatten()[0], icc21[\"pval\"].values.flatten()[0], icc21[\"CI95%\"].values.flatten()[0]\n",
    "    \n",
    "    results.append((col, icc, pval, ci))\n",
    "    \n",
    "    \n",
    "df = pd.DataFrame(results, columns=[\"Trait\", \"ICC(3,1)\", \"p-value\", \"95% CI\"])\n",
    "\n",
    "df[\"Trait\"] = df[\"Trait\"].map(lambda x: str(x).capitalize())\n",
    "df[\"ICC(3,1)\"] = df[\"ICC(3,1)\"].map(\"{:.3f}\".format)\n",
    "df[\"p-value\"] = df[\"p-value\"].map(\"{:.2e}\".format)\n",
    "df[\"95% CI\"] = df[\"95% CI\"].apply(lambda x: f\"[{x[0]:.2f}, {x[1]:.2f}]\")\n",
    "\n",
    "print(df.to_markdown(index=False))"
   ]
  },
  {
   "cell_type": "code",
   "execution_count": null,
   "id": "fc3c6f61",
   "metadata": {},
   "outputs": [],
   "source": []
  },
  {
   "cell_type": "code",
   "execution_count": null,
   "id": "83c037b2",
   "metadata": {},
   "outputs": [],
   "source": []
  },
  {
   "cell_type": "code",
   "execution_count": null,
   "id": "4b8785ea",
   "metadata": {},
   "outputs": [],
   "source": []
  },
  {
   "cell_type": "code",
   "execution_count": null,
   "id": "59e0429e",
   "metadata": {},
   "outputs": [],
   "source": []
  },
  {
   "cell_type": "code",
   "execution_count": null,
   "id": "87194078",
   "metadata": {},
   "outputs": [],
   "source": []
  }
 ],
 "metadata": {
  "kernelspec": {
   "display_name": "llm_testing",
   "language": "python",
   "name": "llm_testing"
  },
  "language_info": {
   "codemirror_mode": {
    "name": "ipython",
    "version": 3
   },
   "file_extension": ".py",
   "mimetype": "text/x-python",
   "name": "python",
   "nbconvert_exporter": "python",
   "pygments_lexer": "ipython3",
   "version": "3.9.17"
  }
 },
 "nbformat": 4,
 "nbformat_minor": 5
}
